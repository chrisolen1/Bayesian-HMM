{
 "cells": [
  {
   "cell_type": "code",
   "execution_count": 16,
   "metadata": {},
   "outputs": [],
   "source": [
    "import numpy as np\n",
    "from hmmlearn import hmm\n",
    "np.random.seed(42)"
   ]
  },
  {
   "cell_type": "code",
   "execution_count": 17,
   "metadata": {},
   "outputs": [],
   "source": [
    "model = hmm.GaussianHMM(n_components=3, covariance_type=\"full\")"
   ]
  },
  {
   "cell_type": "code",
   "execution_count": 18,
   "metadata": {},
   "outputs": [],
   "source": [
    "model.startprob_ = np.array([0.6, 0.3, 0.1])"
   ]
  },
  {
   "cell_type": "code",
   "execution_count": 19,
   "metadata": {},
   "outputs": [],
   "source": [
    "model.transmat_ = np.array([[0.7, 0.2, 0.1],\n",
    "                           [0.3, 0.5, 0.2],\n",
    "                         [0.3, 0.3, 0.4]])"
   ]
  },
  {
   "cell_type": "code",
   "execution_count": 20,
   "metadata": {},
   "outputs": [],
   "source": [
    "model.means_ = np.array([[0.0, 0.0], [3.0, -3.0], [5.0, 10.0]])"
   ]
  },
  {
   "cell_type": "code",
   "execution_count": 21,
   "metadata": {},
   "outputs": [],
   "source": [
    "model.covars_ = np.tile(np.identity(2), (3, 1, 1))"
   ]
  },
  {
   "cell_type": "code",
   "execution_count": 22,
   "metadata": {},
   "outputs": [],
   "source": [
    "X, Z = model.sample(100)"
   ]
  },
  {
   "cell_type": "code",
   "execution_count": 25,
   "metadata": {},
   "outputs": [
    {
     "name": "stdout",
     "output_type": "stream",
     "text": [
      "Help on method sample in module hmmlearn.base:\n",
      "\n",
      "sample(n_samples=1, random_state=None) method of hmmlearn.hmm.GaussianHMM instance\n",
      "    Generate random samples from the model.\n",
      "    \n",
      "    Parameters\n",
      "    ----------\n",
      "    n_samples : int\n",
      "        Number of samples to generate.\n",
      "    \n",
      "    random_state : RandomState or an int seed\n",
      "        A random number generator instance. If ``None``, the object's\n",
      "        ``random_state`` is used.\n",
      "    \n",
      "    Returns\n",
      "    -------\n",
      "    X : array, shape (n_samples, n_features)\n",
      "        Feature matrix.\n",
      "    \n",
      "    state_sequence : array, shape (n_samples, )\n",
      "        State sequence produced by the model.\n",
      "\n"
     ]
    }
   ],
   "source": []
  },
  {
   "cell_type": "code",
   "execution_count": null,
   "metadata": {},
   "outputs": [],
   "source": []
  }
 ],
 "metadata": {
  "kernelspec": {
   "display_name": "Python 3",
   "language": "python",
   "name": "python3"
  },
  "language_info": {
   "codemirror_mode": {
    "name": "ipython",
    "version": 3
   },
   "file_extension": ".py",
   "mimetype": "text/x-python",
   "name": "python",
   "nbconvert_exporter": "python",
   "pygments_lexer": "ipython3",
   "version": "3.7.4"
  }
 },
 "nbformat": 4,
 "nbformat_minor": 2
}
